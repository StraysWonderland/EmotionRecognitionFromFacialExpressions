{
 "cells": [
  {
   "cell_type": "code",
   "execution_count": 1,
   "id": "17189f98",
   "metadata": {},
   "outputs": [
    {
     "name": "stdout",
     "output_type": "stream",
     "text": [
      "Collecting opendatasets\n",
      "  Downloading opendatasets-0.1.20-py3-none-any.whl (14 kB)\n",
      "Collecting click\n",
      "  Downloading click-8.0.3-py3-none-any.whl (97 kB)\n",
      "\u001b[K     |████████████████████████████████| 97 kB 1.3 MB/s eta 0:00:01\n",
      "\u001b[?25hCollecting tqdm\n",
      "  Using cached tqdm-4.62.3-py2.py3-none-any.whl (76 kB)\n",
      "Collecting kaggle\n",
      "  Downloading kaggle-1.5.12.tar.gz (58 kB)\n",
      "\u001b[K     |████████████████████████████████| 58 kB 1.2 MB/s eta 0:00:011\n",
      "\u001b[?25hRequirement already satisfied: importlib-metadata in /home/pipebomb/anaconda3/envs/facereco/lib/python3.7/site-packages (from click->opendatasets) (4.8.1)\n",
      "Requirement already satisfied: zipp>=0.5 in /home/pipebomb/anaconda3/envs/facereco/lib/python3.7/site-packages (from importlib-metadata->click->opendatasets) (3.6.0)\n",
      "Requirement already satisfied: typing-extensions>=3.6.4 in /home/pipebomb/anaconda3/envs/facereco/lib/python3.7/site-packages (from importlib-metadata->click->opendatasets) (3.10.0.2)\n",
      "Requirement already satisfied: six>=1.10 in /home/pipebomb/anaconda3/envs/facereco/lib/python3.7/site-packages (from kaggle->opendatasets) (1.16.0)\n",
      "Requirement already satisfied: certifi in /home/pipebomb/anaconda3/envs/facereco/lib/python3.7/site-packages (from kaggle->opendatasets) (2021.10.8)\n",
      "Requirement already satisfied: python-dateutil in /home/pipebomb/anaconda3/envs/facereco/lib/python3.7/site-packages (from kaggle->opendatasets) (2.8.2)\n",
      "Requirement already satisfied: requests in /home/pipebomb/anaconda3/envs/facereco/lib/python3.7/site-packages (from kaggle->opendatasets) (2.26.0)\n",
      "Collecting python-slugify\n",
      "  Downloading python_slugify-5.0.2-py2.py3-none-any.whl (6.7 kB)\n",
      "Requirement already satisfied: urllib3 in /home/pipebomb/anaconda3/envs/facereco/lib/python3.7/site-packages (from kaggle->opendatasets) (1.26.7)\n",
      "Collecting text-unidecode>=1.3\n",
      "  Downloading text_unidecode-1.3-py2.py3-none-any.whl (78 kB)\n",
      "\u001b[K     |████████████████████████████████| 78 kB 332 kB/s  eta 0:00:01\n",
      "\u001b[?25hRequirement already satisfied: idna<4,>=2.5 in /home/pipebomb/anaconda3/envs/facereco/lib/python3.7/site-packages (from requests->kaggle->opendatasets) (3.3)\n",
      "Requirement already satisfied: charset-normalizer~=2.0.0 in /home/pipebomb/anaconda3/envs/facereco/lib/python3.7/site-packages (from requests->kaggle->opendatasets) (2.0.7)\n",
      "Building wheels for collected packages: kaggle\n",
      "  Building wheel for kaggle (setup.py) ... \u001b[?25ldone\n",
      "\u001b[?25h  Created wheel for kaggle: filename=kaggle-1.5.12-py3-none-any.whl size=73051 sha256=c724c5a09ea2c6eeea4aaacffa798ac5f3f538189db2ca201a0920464561ba6d\n",
      "  Stored in directory: /home/pipebomb/.cache/pip/wheels/62/d6/58/5853130f941e75b2177d281eb7e44b4a98ed46dd155f556dc5\n",
      "Successfully built kaggle\n",
      "Installing collected packages: text-unidecode, tqdm, python-slugify, kaggle, click, opendatasets\n",
      "Successfully installed click-8.0.3 kaggle-1.5.12 opendatasets-0.1.20 python-slugify-5.0.2 text-unidecode-1.3 tqdm-4.62.3\n"
     ]
    }
   ],
   "source": [
    "!pip install opendatasets"
   ]
  },
  {
   "cell_type": "code",
   "execution_count": 2,
   "id": "c6987df4",
   "metadata": {},
   "outputs": [],
   "source": [
    "import opendatasets as od"
   ]
  },
  {
   "cell_type": "markdown",
   "id": "ddbe9f2a",
   "metadata": {},
   "source": [
    "## Instruction to create Kaggle.json\n",
    "\n",
    "### 1. Login To Your Kaggle Account\n",
    "### 2. Go To `Your Account` > `Account`\n",
    "### 3. Go to the bottom, and Click `Create New API Token`\n",
    "<img src=\"images/Kaggle_download.png\">\n",
    "\n",
    "### 4. `Kaggle.json` is downloaded comprising of `username` and `key`."
   ]
  },
  {
   "cell_type": "markdown",
   "id": "1db9d3dd",
   "metadata": {},
   "source": [
    "### Enter `username` and `key` when promoted"
   ]
  },
  {
   "cell_type": "code",
   "execution_count": 7,
   "id": "9b820009",
   "metadata": {},
   "outputs": [
    {
     "name": "stdout",
     "output_type": "stream",
     "text": [
      "Please provide your Kaggle credentials to download this dataset. Learn more: http://bit.ly/kaggle-creds\n",
      "Your Kaggle username: coderxy\n",
      "Your Kaggle Key: ········\n",
      "Downloading fer2013.zip to ./fer2013\n"
     ]
    },
    {
     "name": "stderr",
     "output_type": "stream",
     "text": [
      "100%|██████████████████████████████████████| 96.6M/96.6M [00:04<00:00, 21.7MB/s]\n"
     ]
    },
    {
     "name": "stdout",
     "output_type": "stream",
     "text": [
      "\n"
     ]
    }
   ],
   "source": [
    "od.download(\"https://www.kaggle.com/deadskull7/fer2013\")"
   ]
  },
  {
   "cell_type": "code",
   "execution_count": 14,
   "id": "8668bbfd",
   "metadata": {},
   "outputs": [],
   "source": [
    "# Shifting data to correct path\n",
    "import os, shutil\n",
    "\n",
    "if os.path.exists('data'):\n",
    "    pass\n",
    "else:\n",
    "    os.mkdir('data')\n",
    "\n",
    "shutil.move('fer2013/fer2013.csv', 'data')\n",
    "os.rmdir('fer2013')\n"
   ]
  }
 ],
 "metadata": {
  "kernelspec": {
   "display_name": "Python 3 (ipykernel)",
   "language": "python",
   "name": "python3"
  },
  "language_info": {
   "codemirror_mode": {
    "name": "ipython",
    "version": 3
   },
   "file_extension": ".py",
   "mimetype": "text/x-python",
   "name": "python",
   "nbconvert_exporter": "python",
   "pygments_lexer": "ipython3",
   "version": "3.7.11"
  }
 },
 "nbformat": 4,
 "nbformat_minor": 5
}
